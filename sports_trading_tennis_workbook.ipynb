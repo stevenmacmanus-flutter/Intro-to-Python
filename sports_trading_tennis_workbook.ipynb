{
 "cells": [
  {
   "cell_type": "markdown",
   "id": "55d81810",
   "metadata": {},
   "source": [
    "# Python for Sports Traders – Tennis Edition  \n",
   ]
  },
  {
   "cell_type": "markdown",
   "id": "1ccbe632",
   "metadata": {},
   "source": [
    "\n",
    "Welcome!  \n",
    "You need **no previous coding experience**. Follow along, run the cells (Shift + Enter), and tackle the practice tasks after each concept.\n",
    "\n",
    "**Roadmap**\n",
    "\n",
    "0. Meet Jupyter  \n",
    "1. Python basics  \n",
    "2. NumPy arrays  \n",
    "3. pandas fundamentals  \n",
    "4. Filtering & transformation  \n",
    "5. Joining datasets (SQL-style)  \n",
    "6. Grouping & aggregation  \n",
    "7. Pivot tables (Excel vibe)  \n",
    "8. Exporting results  \n",
    "9. Batch processing  \n",
    "10. Capstone mini‑project  \n"
   ]
  },
  {
   "cell_type": "markdown",
   "id": "8d0a491f",
   "metadata": {},
   "source": [
    "## 0. Meet Jupyter notebooks"
   ]
  },
  {
   "cell_type": "markdown",
   "id": "431e69c9",
   "metadata": {},
   "source": [
    "Run the cell below—welcome to interactive coding!"
   ]
  },
  {
   "cell_type": "code",
   "execution_count": 1,
   "id": "7d87b49f",
   "metadata": {},
   "outputs": [
    {
     "name": "stdout",
     "output_type": "stream",
     "text": [
      "Hello, sports world! 🎾\n"
     ]
    }
   ],
   "source": [
    "print('Hello, sports world! 🎾')"
   ]
  },
  {
   "cell_type": "markdown",
   "id": "cec477da",
   "metadata": {},
   "source": [
    "## 1. Python basics"
   ]
  },
  {
   "cell_type": "markdown",
   "id": "aa93d572",
   "metadata": {},
   "source": [
    "### 1.1 Comments & printing"
   ]
  },
  {
   "cell_type": "code",
   "execution_count": 17,
   "id": "9d5fb848",
   "metadata": {},
   "outputs": [
    {
     "name": "stdout",
     "output_type": "stream",
     "text": [
      "Data-driven decisions win championships!\n"
     ]
    }
   ],
   "source": [
    "# A hashtag starts a comment that Python ignores.\n",
    "print(\"Data-driven decisions win championships!\")"
   ]
  },
  {
   "cell_type": "markdown",
   "id": "bdcd0661",
   "metadata": {},
   "source": [
    "### 1.2 Basic arithmetic"
   ]
  },
  {
   "cell_type": "code",
   "execution_count": 24,
   "id": "2b6f60a2",
   "metadata": {},
   "outputs": [
    {
     "name": "stdout",
     "output_type": "stream",
     "text": [
      "Total number of sets won: 5\n",
      "Player A Set Win Percentage: 60.0\n"
     ]
    }
   ],
   "source": [
    "# Division, multiplication, exponents\n",
    "sets_won_by_a = 3\n",
    "sets_won_by_b = 2\n",
    "total_sets = 5\n",
    "\n",
    "total_sets_won = sets_won_by_a + sets_won_by_b\n",
    "print(\"Total number of sets won:\", total_sets_won)\n",
    "\n",
    "win_pct = 100*sets_won_by_a / total_sets\n",
    "print(\"Player A Set Win Percentage:\", win_pct)"
   ]
  },
  {
   "cell_type": "markdown",
   "id": "fb11ca5d",
   "metadata": {},
   "source": [
    "> **Practice 1.1:** Calculate the break‑even % chance for decimal odds **3.5**"
   ]
  },
  {
   "cell_type": "markdown",
   "id": "d12fb11f",
   "metadata": {},
   "source": [
    "### 1.3 Variables & types"
   ]
  },
  {
   "cell_type": "code",
   "execution_count": 27,
   "id": "87f75d53",
   "metadata": {},
   "outputs": [
    {
     "name": "stdout",
     "output_type": "stream",
     "text": [
      "<class 'bool'>\n",
      "<class 'int'>\n",
      "<class 'float'>\n",
      "<class 'str'>\n",
      "N o v a k\n"
     ]
    }
   ],
   "source": [
    "\n",
    "player = \"Novak Djokovic\"\n",
    "decimal_odds = 1.75      \n",
    "favorite_yn = True  \n",
    "num_sets = 5\n",
    "\n",
    "print(type(favorite_yn))\n",
    "print(type(num_sets))\n",
    "print(type(decimal_odds))\n",
    "print(type(player))\n",
    "print(player[0], player[1], player[2], player[3], player[4])"
   ]
  },
  {
   "cell_type": "markdown",
   "id": "3d3f987b",
   "metadata": {},
   "source": [
    "### 1.4 Lists – ordered collections"
   ]
  },
  {
   "cell_type": "code",
   "execution_count": 30,
   "id": "763f6904",
   "metadata": {},
   "outputs": [
    {
     "name": "stdout",
     "output_type": "stream",
     "text": [
      "Before append: ['Australian Open', 'Roland Garros', 'Wimbledon']\n",
      "First Slam: Australian Open\n",
      "After append: ['Australian Open', 'Roland Garros', 'Wimbledon', 'US Open']\n",
      "Last Slam: US Open\n"
     ]
    }
   ],
   "source": [
    "\n",
    "grand_slams = [\"Australian Open\", \"Roland Garros\", \"Wimbledon\"]\n",
    "print(\"Before append:\", grand_slams)\n",
    "\n",
    "print(\"First Slam:\", grand_slams[0])\n",
    "\n",
    "# 🔑 Example: append adds an item to the end of a list\n",
    "grand_slams.append(\"US Open\")\n",
    "print(\"After append:\", grand_slams)\n",
    "\n",
    "print(\"Last Slam:\", grand_slams[-1])\n",
    "\n"
   ]
  },
  {
   "cell_type": "markdown",
   "id": "f5aa46e5",
   "metadata": {},
   "source": [
    "> **Practice 1.2:** Append **'ATP Finals'** to `grand_slams` and print the updated list."
   ]
  },
  {
   "cell_type": "markdown",
   "id": "49f69917",
   "metadata": {},
   "source": [
    "### 1.5 Dictionaries – key/value look‑ups"
   ]
  },
  {
   "cell_type": "code",
   "execution_count": 6,
   "id": "db4c1b75",
   "metadata": {},
   "outputs": [
    {
     "name": "stdout",
     "output_type": "stream",
     "text": [
      "{'Sinner': 1, 'Alcaraz': 2}\n",
      "Sinner is ranked #1\n",
      "Alcaraz is ranked #2\n"
     ]
    }
   ],
   "source": [
    "\n",
    "player_rank = {\"Sinner\": 1, \"Alcaraz\": 2}\n",
    "print(player_rank)\n",
    "\n",
    "# 🔑 Example: looping through a dict\n",
    "for name, rank in player_rank.items():\n",
    "    print(f\"{name} is ranked #{rank}\")\n"
   ]
  },
  {
   "cell_type": "markdown",
   "id": "278adf95",
   "metadata": {},
   "source": [
    "> **Practice 1.3:** Add `'Djokovic': 3` to `player_rank`, then write a loop that prints each player with their rank."
   ]
  },
  {
   "cell_type": "markdown",
   "id": "fe0a38bf",
   "metadata": {},
   "source": [
    "### 1.6 Control flow: if‑else and loops"
   ]
  },
  {
   "cell_type": "code",
   "execution_count": 33,
   "id": "5da5b832",
   "metadata": {},
   "outputs": [
    {
     "name": "stdout",
     "output_type": "stream",
     "text": [
      "Great trade! 🎉\n"
     ]
    }
   ],
   "source": [
    "\n",
    "profit = 40\n",
    "if profit > 0:\n",
    "    print(\"Great trade! 🎉\")\n",
    "else:\n",
    "    print(\"Tough luck, review your edge.\")"
   ]
  },
  {
   "cell_type": "markdown",
   "id": "f7fb280b",
   "metadata": {},
   "source": [
    "> **Practice 1.4:** Write an `if‐else` that prints *'Short odds'* if `odds < 2` else *'Long odds'*."
   ]
  },
  {
   "cell_type": "code",
   "execution_count": 34,
   "id": "41dc8b43-883e-4fd9-9427-17c228fa225d",
   "metadata": {},
   "outputs": [
    {
     "name": "stdout",
     "output_type": "stream",
     "text": [
      "Australian Open is played on Hard Court\n",
      "French Open is not played on Hard Court\n",
      "Wimbledon is not played on Hard Court\n",
      "US Open is played on Hard Court\n"
     ]
    }
   ],
   "source": [
    "grand_slams = {\"Australian Open\": \"Hard\", \"French Open\": \"Clay\", \"Wimbledon\": \"Grass\", \"US Open\": \"Hard\"}\n",
    "\n",
    "for name, surface in grand_slams.items():\n",
    "    if surface == \"Hard\":\n",
    "        print(name, \"is played on Hard Court\")\n",
    "    else: \n",
    "        print(name, \"is not played on Hard Court\")"
   ]
  },
  {
   "cell_type": "markdown",
   "id": "9600a76d-8555-403a-8ddf-12f32c8b1b40",
   "metadata": {},
   "source": [
    "> **Practice 1.5:** Create a dictionary containing player names, make up some heights for each. Write a `for loop` that prints *`Under 6ft tall`* if `height < 183` else *`Over 6ft tall`*"
   ]
  },
  {
   "cell_type": "markdown",
   "id": "556f08a6",
   "metadata": {},
   "source": [
    "### 1.7 Defining functions"
   ]
  },
  {
   "cell_type": "code",
   "execution_count": 36,
   "id": "38868a32",
   "metadata": {},
   "outputs": [
    {
     "data": {
      "text/plain": [
       "0.556"
      ]
     },
     "execution_count": 36,
     "metadata": {},
     "output_type": "execute_result"
    }
   ],
   "source": [
    "def implied_prob(decimal_odds):\n",
    "    \"\"\"Return probability implied by decimal odds.\"\"\"\n",
    "    return round(1 / decimal_odds, 3)\n",
    "\n",
    "implied_prob(1.8)"
   ]
  },
  {
   "cell_type": "markdown",
   "id": "b328559b",
   "metadata": {},
   "source": [
    "> **Practice 1.6:** Write a function `net_profit(gross, commission_rate)` that subtracts the commission and returns the net figure."
   ]
  },
  {
   "cell_type": "markdown",
   "id": "dcd07787",
   "metadata": {},
   "source": [
    "## 2. NumPy – lightning‑fast arrays"
   ]
  },
  {
   "cell_type": "code",
   "execution_count": 37,
   "id": "61499568",
   "metadata": {},
   "outputs": [
    {
     "data": {
      "text/plain": [
       "array([[6, 4],\n",
       "       [3, 6],\n",
       "       [7, 6]])"
      ]
     },
     "execution_count": 37,
     "metadata": {},
     "output_type": "execute_result"
    }
   ],
   "source": [
    "\n",
    "import numpy as np\n",
    "\n",
    "# Example array: set scores (player1, player2)\n",
    "scores = np.array([[6,4],\n",
    "                   [3,6],\n",
    "                   [7,6]])\n",
    "\n",
    "scores"
   ]
  },
  {
   "cell_type": "code",
   "execution_count": 38,
   "id": "1a9045c1",
   "metadata": {},
   "outputs": [
    {
     "name": "stdout",
     "output_type": "stream",
     "text": [
      "[5.  4.5 6.5]\n",
      "[5.33333333 5.33333333]\n"
     ]
    }
   ],
   "source": [
    "# Row averages\n",
    "print(scores.mean(axis=1))\n",
    "\n",
    "# Column averages\n",
    "print(scores.mean(axis=0))"
   ]
  },
  {
   "cell_type": "code",
   "execution_count": 42,
   "id": "a76871ee",
   "metadata": {},
   "outputs": [
    {
     "data": {
      "text/plain": [
       "array([[131, 187, 109, 185]], dtype=int32)"
      ]
     },
     "execution_count": 42,
     "metadata": {},
     "output_type": "execute_result"
    }
   ],
   "source": [
    "# 🔑 Example: generate random match durations\n",
    "num_matches = 4\n",
    "min_duration = 90\n",
    "max_duration = 201\n",
    "\n",
    "durations = np.random.randint(min_duration, max_duration, size=(1,num_matches))\n",
    "durations"
   ]
  },
  {
   "cell_type": "code",
   "execution_count": null,
   "id": "2d19d8d1",
   "metadata": {},
   "outputs": [
    {
     "data": {
      "text/plain": [
       "array([0.42541199, 0.15667668, 0.87400351, 0.86678253, 0.67329532,\n",
       "       0.89115449, 0.2733673 , 0.71904771, 0.96914377, 0.07068298])"
      ]
     },
     "execution_count": 47,
     "metadata": {},
     "output_type": "execute_result"
    }
   ],
   "source": [
    "# 🔑 Example: Uniform random numbers between 0 and 1 (probabilities)\n",
    "\n",
    "random_numbers = np.random.rand(100)\n",
    "\n",
    "random_numbers[:10]  # Show first 10 numbers\n"
   ]
  },
  {
   "cell_type": "markdown",
   "id": "2eac89b6",
   "metadata": {},
   "source": [
    "> **Practice 2.1:** Use NumPy to find the **longest** and **shortest** duration in `durations`."
   ]
  },
  {
   "cell_type": "markdown",
   "id": "b5c2361d",
   "metadata": {},
   "source": [
    "## 3. pandas fundamentals – spreadsheets on rocket fuel"
   ]
  },
  {
   "cell_type": "markdown",
   "id": "13f5cb53",
   "metadata": {},
   "source": [
    "### 3.1 Loading tennis match data"
   ]
  },
  {
   "cell_type": "code",
   "execution_count": 44,
   "id": "7da56071",
   "metadata": {},
   "outputs": [
    {
     "data": {
      "text/html": [
       "<div>\n",
       "<style scoped>\n",
       "    .dataframe tbody tr th:only-of-type {\n",
       "        vertical-align: middle;\n",
       "    }\n",
       "\n",
       "    .dataframe tbody tr th {\n",
       "        vertical-align: top;\n",
       "    }\n",
       "\n",
       "    .dataframe thead th {\n",
       "        text-align: right;\n",
       "    }\n",
       "</style>\n",
       "<table border=\"1\" class=\"dataframe\">\n",
       "  <thead>\n",
       "    <tr style=\"text-align: right;\">\n",
       "      <th></th>\n",
       "      <th>match_id</th>\n",
       "      <th>date</th>\n",
       "      <th>tournament</th>\n",
       "      <th>player1</th>\n",
       "      <th>player2</th>\n",
       "      <th>p1_odds</th>\n",
       "      <th>p2_odds</th>\n",
       "      <th>p1_sets_won</th>\n",
       "      <th>p2_sets_won</th>\n",
       "    </tr>\n",
       "  </thead>\n",
       "  <tbody>\n",
       "    <tr>\n",
       "      <th>0</th>\n",
       "      <td>2024001</td>\n",
       "      <td>2024-10-21</td>\n",
       "      <td>Wimbledon</td>\n",
       "      <td>Daniil Medvedev</td>\n",
       "      <td>Holger Rune</td>\n",
       "      <td>3.52</td>\n",
       "      <td>3.54</td>\n",
       "      <td>1</td>\n",
       "      <td>3</td>\n",
       "    </tr>\n",
       "    <tr>\n",
       "      <th>1</th>\n",
       "      <td>2024002</td>\n",
       "      <td>2024-12-14</td>\n",
       "      <td>Australian Open</td>\n",
       "      <td>Daniil Medvedev</td>\n",
       "      <td>Andrey Rublev</td>\n",
       "      <td>2.09</td>\n",
       "      <td>3.77</td>\n",
       "      <td>4</td>\n",
       "      <td>3</td>\n",
       "    </tr>\n",
       "    <tr>\n",
       "      <th>2</th>\n",
       "      <td>2024003</td>\n",
       "      <td>2024-09-07</td>\n",
       "      <td>Australian Open</td>\n",
       "      <td>Jannik Sinner</td>\n",
       "      <td>Alexander Zverev</td>\n",
       "      <td>1.84</td>\n",
       "      <td>1.67</td>\n",
       "      <td>1</td>\n",
       "      <td>2</td>\n",
       "    </tr>\n",
       "    <tr>\n",
       "      <th>3</th>\n",
       "      <td>2024004</td>\n",
       "      <td>2024-01-08</td>\n",
       "      <td>US Open</td>\n",
       "      <td>Carlos Alcaraz</td>\n",
       "      <td>Jannik Sinner</td>\n",
       "      <td>2.39</td>\n",
       "      <td>1.38</td>\n",
       "      <td>4</td>\n",
       "      <td>2</td>\n",
       "    </tr>\n",
       "    <tr>\n",
       "      <th>4</th>\n",
       "      <td>2024005</td>\n",
       "      <td>2024-03-18</td>\n",
       "      <td>Australian Open</td>\n",
       "      <td>Jannik Sinner</td>\n",
       "      <td>Alexander Zverev</td>\n",
       "      <td>1.78</td>\n",
       "      <td>2.82</td>\n",
       "      <td>1</td>\n",
       "      <td>0</td>\n",
       "    </tr>\n",
       "  </tbody>\n",
       "</table>\n",
       "</div>"
      ],
      "text/plain": [
       "   match_id        date       tournament          player1           player2  \\\n",
       "0   2024001  2024-10-21        Wimbledon  Daniil Medvedev       Holger Rune   \n",
       "1   2024002  2024-12-14  Australian Open  Daniil Medvedev     Andrey Rublev   \n",
       "2   2024003  2024-09-07  Australian Open    Jannik Sinner  Alexander Zverev   \n",
       "3   2024004  2024-01-08          US Open   Carlos Alcaraz     Jannik Sinner   \n",
       "4   2024005  2024-03-18  Australian Open    Jannik Sinner  Alexander Zverev   \n",
       "\n",
       "   p1_odds  p2_odds  p1_sets_won  p2_sets_won  \n",
       "0     3.52     3.54            1            3  \n",
       "1     2.09     3.77            4            3  \n",
       "2     1.84     1.67            1            2  \n",
       "3     2.39     1.38            4            2  \n",
       "4     1.78     2.82            1            0  "
      ]
     },
     "execution_count": 44,
     "metadata": {},
     "output_type": "execute_result"
    }
   ],
   "source": [
    "import pandas as pd\n",
    "\n",
    "matches_2024 = pd.read_csv(\"matches_2024.csv\")\n",
    "matches_2024.head()"
   ]
  },
  {
   "cell_type": "code",
   "execution_count": 45,
   "id": "4fe13519",
   "metadata": {},
   "outputs": [
    {
     "name": "stdout",
     "output_type": "stream",
     "text": [
      "<class 'pandas.core.frame.DataFrame'>\n",
      "RangeIndex: 10 entries, 0 to 9\n",
      "Data columns (total 9 columns):\n",
      " #   Column       Non-Null Count  Dtype  \n",
      "---  ------       --------------  -----  \n",
      " 0   match_id     10 non-null     int64  \n",
      " 1   date         10 non-null     object \n",
      " 2   tournament   10 non-null     object \n",
      " 3   player1      10 non-null     object \n",
      " 4   player2      10 non-null     object \n",
      " 5   p1_odds      10 non-null     float64\n",
      " 6   p2_odds      10 non-null     float64\n",
      " 7   p1_sets_won  10 non-null     int64  \n",
      " 8   p2_sets_won  10 non-null     int64  \n",
      "dtypes: float64(2), int64(3), object(4)\n",
      "memory usage: 852.0+ bytes\n"
     ]
    }
   ],
   "source": [
    "matches_2024.info()"
   ]
  },
  {
   "cell_type": "code",
   "execution_count": 46,
   "id": "55cb7837",
   "metadata": {},
   "outputs": [
    {
     "data": {
      "text/html": [
       "<div>\n",
       "<style scoped>\n",
       "    .dataframe tbody tr th:only-of-type {\n",
       "        vertical-align: middle;\n",
       "    }\n",
       "\n",
       "    .dataframe tbody tr th {\n",
       "        vertical-align: top;\n",
       "    }\n",
       "\n",
       "    .dataframe thead th {\n",
       "        text-align: right;\n",
       "    }\n",
       "</style>\n",
       "<table border=\"1\" class=\"dataframe\">\n",
       "  <thead>\n",
       "    <tr style=\"text-align: right;\">\n",
       "      <th></th>\n",
       "      <th>match_id</th>\n",
       "      <th>p1_odds</th>\n",
       "      <th>p2_odds</th>\n",
       "      <th>p1_sets_won</th>\n",
       "      <th>p2_sets_won</th>\n",
       "    </tr>\n",
       "  </thead>\n",
       "  <tbody>\n",
       "    <tr>\n",
       "      <th>count</th>\n",
       "      <td>1.000000e+01</td>\n",
       "      <td>10.000000</td>\n",
       "      <td>10.000000</td>\n",
       "      <td>10.000000</td>\n",
       "      <td>10.000000</td>\n",
       "    </tr>\n",
       "    <tr>\n",
       "      <th>mean</th>\n",
       "      <td>2.024006e+06</td>\n",
       "      <td>2.663000</td>\n",
       "      <td>2.737000</td>\n",
       "      <td>2.000000</td>\n",
       "      <td>2.200000</td>\n",
       "    </tr>\n",
       "    <tr>\n",
       "      <th>std</th>\n",
       "      <td>3.027650e+00</td>\n",
       "      <td>0.863109</td>\n",
       "      <td>0.806364</td>\n",
       "      <td>1.763834</td>\n",
       "      <td>1.135292</td>\n",
       "    </tr>\n",
       "    <tr>\n",
       "      <th>min</th>\n",
       "      <td>2.024001e+06</td>\n",
       "      <td>1.510000</td>\n",
       "      <td>1.380000</td>\n",
       "      <td>0.000000</td>\n",
       "      <td>0.000000</td>\n",
       "    </tr>\n",
       "    <tr>\n",
       "      <th>25%</th>\n",
       "      <td>2.024003e+06</td>\n",
       "      <td>1.902500</td>\n",
       "      <td>2.325000</td>\n",
       "      <td>1.000000</td>\n",
       "      <td>2.000000</td>\n",
       "    </tr>\n",
       "    <tr>\n",
       "      <th>50%</th>\n",
       "      <td>2.024006e+06</td>\n",
       "      <td>2.520000</td>\n",
       "      <td>2.705000</td>\n",
       "      <td>1.000000</td>\n",
       "      <td>2.000000</td>\n",
       "    </tr>\n",
       "    <tr>\n",
       "      <th>75%</th>\n",
       "      <td>2.024008e+06</td>\n",
       "      <td>3.507500</td>\n",
       "      <td>3.420000</td>\n",
       "      <td>4.000000</td>\n",
       "      <td>3.000000</td>\n",
       "    </tr>\n",
       "    <tr>\n",
       "      <th>max</th>\n",
       "      <td>2.024010e+06</td>\n",
       "      <td>3.790000</td>\n",
       "      <td>3.770000</td>\n",
       "      <td>4.000000</td>\n",
       "      <td>4.000000</td>\n",
       "    </tr>\n",
       "  </tbody>\n",
       "</table>\n",
       "</div>"
      ],
      "text/plain": [
       "           match_id    p1_odds    p2_odds  p1_sets_won  p2_sets_won\n",
       "count  1.000000e+01  10.000000  10.000000    10.000000    10.000000\n",
       "mean   2.024006e+06   2.663000   2.737000     2.000000     2.200000\n",
       "std    3.027650e+00   0.863109   0.806364     1.763834     1.135292\n",
       "min    2.024001e+06   1.510000   1.380000     0.000000     0.000000\n",
       "25%    2.024003e+06   1.902500   2.325000     1.000000     2.000000\n",
       "50%    2.024006e+06   2.520000   2.705000     1.000000     2.000000\n",
       "75%    2.024008e+06   3.507500   3.420000     4.000000     3.000000\n",
       "max    2.024010e+06   3.790000   3.770000     4.000000     4.000000"
      ]
     },
     "execution_count": 46,
     "metadata": {},
     "output_type": "execute_result"
    }
   ],
   "source": [
    "matches_2024.describe()"
   ]
  },
  {
   "cell_type": "markdown",
   "id": "81826c2d",
   "metadata": {},
   "source": [
    "> **Practice 3.1:** How many **unique tournaments** are in `matches_2024`? Hint: `nunique()`"
   ]
  },
  {
   "cell_type": "markdown",
   "id": "f0eccd21",
   "metadata": {},
   "source": [
    "### 3.2 Selecting columns & rows"
   ]
  },
  {
   "cell_type": "code",
   "execution_count": 53,
   "id": "c1b41a9d",
   "metadata": {},
   "outputs": [
    {
     "name": "stdout",
     "output_type": "stream",
     "text": [
      "Column selection:\n",
      " 0    2024001\n",
      "1    2024002\n",
      "2    2024003\n",
      "3    2024004\n",
      "4    2024005\n",
      "Name: match_id, dtype: int64 \n",
      "\n",
      "Row selection by index:\n",
      " match_id               2024001\n",
      "date                2024-10-21\n",
      "tournament           Wimbledon\n",
      "player1        Daniil Medvedev\n",
      "player2            Holger Rune\n",
      "p1_odds                   3.52\n",
      "p2_odds                   3.54\n",
      "p1_sets_won                  1\n",
      "p2_sets_won                  3\n",
      "Name: 0, dtype: object\n"
     ]
    }
   ],
   "source": [
    "# Column selection\n",
    "matchIDs = matches_2024['match_id']\n",
    "print(\"Column selection:\\n\", matchIDs.head(), \"\\n\")\n",
    "\n",
    "# Row selection by index\n",
    "firstRow = matches_2024.loc[0]\n",
    "print(\"Row selection by index 0:\\n\", firstRow)"
   ]
  },
  {
   "cell_type": "markdown",
   "id": "f84f7b42",
   "metadata": {},
   "source": [
    "### 3.3 Sorting"
   ]
  },
  {
   "cell_type": "code",
   "execution_count": 54,
   "id": "ae0c46fb",
   "metadata": {},
   "outputs": [
    {
     "data": {
      "text/html": [
       "<div>\n",
       "<style scoped>\n",
       "    .dataframe tbody tr th:only-of-type {\n",
       "        vertical-align: middle;\n",
       "    }\n",
       "\n",
       "    .dataframe tbody tr th {\n",
       "        vertical-align: top;\n",
       "    }\n",
       "\n",
       "    .dataframe thead th {\n",
       "        text-align: right;\n",
       "    }\n",
       "</style>\n",
       "<table border=\"1\" class=\"dataframe\">\n",
       "  <thead>\n",
       "    <tr style=\"text-align: right;\">\n",
       "      <th></th>\n",
       "      <th>player1</th>\n",
       "      <th>p1_odds</th>\n",
       "    </tr>\n",
       "  </thead>\n",
       "  <tbody>\n",
       "    <tr>\n",
       "      <th>6</th>\n",
       "      <td>Carlos Alcaraz</td>\n",
       "      <td>3.79</td>\n",
       "    </tr>\n",
       "    <tr>\n",
       "      <th>8</th>\n",
       "      <td>Carlos Alcaraz</td>\n",
       "      <td>3.59</td>\n",
       "    </tr>\n",
       "    <tr>\n",
       "      <th>0</th>\n",
       "      <td>Daniil Medvedev</td>\n",
       "      <td>3.52</td>\n",
       "    </tr>\n",
       "    <tr>\n",
       "      <th>9</th>\n",
       "      <td>Jannik Sinner</td>\n",
       "      <td>3.47</td>\n",
       "    </tr>\n",
       "    <tr>\n",
       "      <th>7</th>\n",
       "      <td>Daniil Medvedev</td>\n",
       "      <td>2.65</td>\n",
       "    </tr>\n",
       "  </tbody>\n",
       "</table>\n",
       "</div>"
      ],
      "text/plain": [
       "           player1  p1_odds\n",
       "6   Carlos Alcaraz     3.79\n",
       "8   Carlos Alcaraz     3.59\n",
       "0  Daniil Medvedev     3.52\n",
       "9    Jannik Sinner     3.47\n",
       "7  Daniil Medvedev     2.65"
      ]
     },
     "execution_count": 54,
     "metadata": {},
     "output_type": "execute_result"
    }
   ],
   "source": [
    "\n",
    "# 🔑 Example: sort by player1 odds (ascending)\n",
    "sorted_odds = matches_2024.sort_values('p1_odds', ascending=False)\n",
    "sorted_odds[['player1','p1_odds']].head()\n"
   ]
  },
  {
   "cell_type": "markdown",
   "id": "dfb62d17",
   "metadata": {},
   "source": [
    "> **Practice 3.2:** Sort `matches_2024` by **`date` descending** and display the top 3 rows."
   ]
  },
  {
   "cell_type": "markdown",
   "id": "14d3905d",
   "metadata": {},
   "source": [
    "### 3.4 Creating new columns"
   ]
  },
  {
   "cell_type": "code",
   "execution_count": 63,
   "id": "e2871f46",
   "metadata": {},
   "outputs": [
    {
     "name": "stdout",
     "output_type": "stream",
     "text": [
      "   match_id  avg_odds\n",
      "0   2024001     3.530\n",
      "1   2024002     2.930\n",
      "2   2024003     1.755\n",
      "3   2024004     1.885\n",
      "4   2024005     2.300\n",
      "   match_id  total_sets\n",
      "0   2024001           4\n",
      "1   2024002           7\n",
      "2   2024003           3\n",
      "3   2024004           6\n",
      "4   2024005           1\n"
     ]
    }
   ],
   "source": [
    "#Referencing New Column\n",
    "matches_2024['avg_odds'] = (matches_2024['p1_odds'] + matches_2024['p2_odds'])/2\n",
    "\n",
    "print(matches_2024[['match_id','avg_odds']].head())\n",
    "\n",
    "\n",
    "#Using Assign\n",
    "matches_2024 = matches_2024.assign(\n",
    "    total_sets = matches_2024['p1_sets_won'] + matches_2024['p2_sets_won']\n",
    ")\n",
    "\n",
    "matches_2024[['match_id','total_sets']].head()\n",
    "\n",
    "print(matches_2024[['match_id','total_sets']].head())"
   ]
  },
  {
   "cell_type": "code",
   "execution_count": 58,
   "id": "3bb29fe3",
   "metadata": {},
   "outputs": [
    {
     "data": {
      "text/html": [
       "<div>\n",
       "<style scoped>\n",
       "    .dataframe tbody tr th:only-of-type {\n",
       "        vertical-align: middle;\n",
       "    }\n",
       "\n",
       "    .dataframe tbody tr th {\n",
       "        vertical-align: top;\n",
       "    }\n",
       "\n",
       "    .dataframe thead th {\n",
       "        text-align: right;\n",
       "    }\n",
       "</style>\n",
       "<table border=\"1\" class=\"dataframe\">\n",
       "  <thead>\n",
       "    <tr style=\"text-align: right;\">\n",
       "      <th></th>\n",
       "      <th>match_id</th>\n",
       "      <th>straight_sets</th>\n",
       "    </tr>\n",
       "  </thead>\n",
       "  <tbody>\n",
       "    <tr>\n",
       "      <th>0</th>\n",
       "      <td>2024001</td>\n",
       "      <td>False</td>\n",
       "    </tr>\n",
       "    <tr>\n",
       "      <th>1</th>\n",
       "      <td>2024002</td>\n",
       "      <td>False</td>\n",
       "    </tr>\n",
       "    <tr>\n",
       "      <th>2</th>\n",
       "      <td>2024003</td>\n",
       "      <td>True</td>\n",
       "    </tr>\n",
       "    <tr>\n",
       "      <th>3</th>\n",
       "      <td>2024004</td>\n",
       "      <td>False</td>\n",
       "    </tr>\n",
       "    <tr>\n",
       "      <th>4</th>\n",
       "      <td>2024005</td>\n",
       "      <td>True</td>\n",
       "    </tr>\n",
       "  </tbody>\n",
       "</table>\n",
       "</div>"
      ],
      "text/plain": [
       "   match_id  straight_sets\n",
       "0   2024001          False\n",
       "1   2024002          False\n",
       "2   2024003           True\n",
       "3   2024004          False\n",
       "4   2024005           True"
      ]
     },
     "execution_count": 58,
     "metadata": {},
     "output_type": "execute_result"
    }
   ],
   "source": [
    "# 🔑 Example: flag straight‑set wins\n",
    "matches_2024['straight_sets'] = matches_2024['total_sets'] <= 3\n",
    "matches_2024[['match_id','straight_sets']].head()"
   ]
  },
  {
   "cell_type": "markdown",
   "id": "8ea79fc2",
   "metadata": {},
   "source": [
    "> **Practice 3.3:** Add a column **`went_to_five_sets`** that is `True` when `total_sets == 5`."
   ]
  },
  {
   "cell_type": "markdown",
   "id": "54ab00ba",
   "metadata": {},
   "source": [
    "### 3.5 Handling missing data"
   ]
  },
  {
   "cell_type": "code",
   "execution_count": 64,
   "id": "4ad17875",
   "metadata": {},
   "outputs": [
    {
     "data": {
      "text/plain": [
       "match_id         0\n",
       "date             0\n",
       "tournament       0\n",
       "player1          0\n",
       "player2          0\n",
       "p1_odds          1\n",
       "p2_odds          0\n",
       "p1_sets_won      0\n",
       "p2_sets_won      0\n",
       "avg_odds         0\n",
       "total_sets       0\n",
       "straight_sets    0\n",
       "dtype: int64"
      ]
     },
     "execution_count": 64,
     "metadata": {},
     "output_type": "execute_result"
    }
   ],
   "source": [
    "\n",
    "# Inject a NaN for demo\n",
    "matches_2024.loc[3,'p1_odds'] = np.nan\n",
    "\n",
    "# 🔑 Example: check for missing values in each of the columns\n",
    "matches_2024.isna().sum()"
   ]
  },
  {
   "cell_type": "code",
   "execution_count": 66,
   "id": "44d5385c",
   "metadata": {},
   "outputs": [
    {
     "name": "stdout",
     "output_type": "stream",
     "text": [
      "Shape before cleaning: (10, 12)\n",
      "Shape after cleaning: (9, 12)\n"
     ]
    }
   ],
   "source": [
    "\n",
    "# 🔑 Example: drop rows with any missing values\n",
    "cleaned = matches_2024.dropna()\n",
    "print('Shape before cleaning:', matches_2024.shape)\n",
    "print('Shape after cleaning:', cleaned.shape)\n"
   ]
  },
  {
   "cell_type": "markdown",
   "id": "eed5a5f8",
   "metadata": {},
   "source": [
    "> **Practice 3.4:** In `matches_2024`, add null `p1_odds` and replace them with the column **median** (`fillna`) and show the new missing‑value count."
   ]
  },
  {
   "cell_type": "markdown",
   "id": "c6376273",
   "metadata": {},
   "source": [
    "### 3.6 Dates & times"
   ]
  },
  {
   "cell_type": "code",
   "execution_count": 69,
   "id": "5c091dd3",
   "metadata": {},
   "outputs": [
    {
     "data": {
      "text/html": [
       "<div>\n",
       "<style scoped>\n",
       "    .dataframe tbody tr th:only-of-type {\n",
       "        vertical-align: middle;\n",
       "    }\n",
       "\n",
       "    .dataframe tbody tr th {\n",
       "        vertical-align: top;\n",
       "    }\n",
       "\n",
       "    .dataframe thead th {\n",
       "        text-align: right;\n",
       "    }\n",
       "</style>\n",
       "<table border=\"1\" class=\"dataframe\">\n",
       "  <thead>\n",
       "    <tr style=\"text-align: right;\">\n",
       "      <th></th>\n",
       "      <th>match_id</th>\n",
       "      <th>date</th>\n",
       "      <th>month</th>\n",
       "    </tr>\n",
       "  </thead>\n",
       "  <tbody>\n",
       "    <tr>\n",
       "      <th>0</th>\n",
       "      <td>2024001</td>\n",
       "      <td>2024-10-21</td>\n",
       "      <td>2024-10</td>\n",
       "    </tr>\n",
       "    <tr>\n",
       "      <th>1</th>\n",
       "      <td>2024002</td>\n",
       "      <td>2024-12-14</td>\n",
       "      <td>2024-12</td>\n",
       "    </tr>\n",
       "    <tr>\n",
       "      <th>2</th>\n",
       "      <td>2024003</td>\n",
       "      <td>2024-09-07</td>\n",
       "      <td>2024-09</td>\n",
       "    </tr>\n",
       "    <tr>\n",
       "      <th>3</th>\n",
       "      <td>2024004</td>\n",
       "      <td>2024-01-08</td>\n",
       "      <td>2024-01</td>\n",
       "    </tr>\n",
       "    <tr>\n",
       "      <th>4</th>\n",
       "      <td>2024005</td>\n",
       "      <td>2024-03-18</td>\n",
       "      <td>2024-03</td>\n",
       "    </tr>\n",
       "  </tbody>\n",
       "</table>\n",
       "</div>"
      ],
      "text/plain": [
       "   match_id       date    month\n",
       "0   2024001 2024-10-21  2024-10\n",
       "1   2024002 2024-12-14  2024-12\n",
       "2   2024003 2024-09-07  2024-09\n",
       "3   2024004 2024-01-08  2024-01\n",
       "4   2024005 2024-03-18  2024-03"
      ]
     },
     "execution_count": 69,
     "metadata": {},
     "output_type": "execute_result"
    }
   ],
   "source": [
    "\n",
    "matches_2024['date'] = pd.to_datetime(matches_2024['date'])\n",
    "matches_2024['month'] = matches_2024['date'].dt.to_period('M')\n",
    "matches_2024[['match_id','date','month']].head()\n"
   ]
  },
  {
   "cell_type": "markdown",
   "id": "e1d15ca5",
   "metadata": {},
   "source": [
    "> **Practice 3.5:** Create a **`year`** column extracted from `date`."
   ]
  },
  {
   "cell_type": "markdown",
   "id": "5101b643",
   "metadata": {},
   "source": [
    "### 3.7 Concatenating DataFrames (think SQL UNION)"
   ]
  },
  {
   "cell_type": "code",
   "execution_count": 79,
   "id": "ac541b3d",
   "metadata": {},
   "outputs": [
    {
     "data": {
      "text/plain": [
       "(20, 14)"
      ]
     },
     "execution_count": 79,
     "metadata": {},
     "output_type": "execute_result"
    }
   ],
   "source": [
    "# Import matches from 2025\n",
    "\n",
    "matches_2025 = pd.read_csv(\"matches_2025.csv\")\n",
    "\n",
    "matches_all = pd.concat([\n",
    "    matches_2024,\n",
    "    matches_2025\n",
    "], ignore_index=True)\n",
    "matches_all.shape\n"
   ]
  },
  {
   "cell_type": "markdown",
   "id": "cf9eff82",
   "metadata": {},
   "source": [
    "## 4. Filtering & transformation"
   ]
  },
  {
   "cell_type": "code",
   "execution_count": 73,
   "id": "78592338",
   "metadata": {},
   "outputs": [
    {
     "data": {
      "text/html": [
       "<div>\n",
       "<style scoped>\n",
       "    .dataframe tbody tr th:only-of-type {\n",
       "        vertical-align: middle;\n",
       "    }\n",
       "\n",
       "    .dataframe tbody tr th {\n",
       "        vertical-align: top;\n",
       "    }\n",
       "\n",
       "    .dataframe thead th {\n",
       "        text-align: right;\n",
       "    }\n",
       "</style>\n",
       "<table border=\"1\" class=\"dataframe\">\n",
       "  <thead>\n",
       "    <tr style=\"text-align: right;\">\n",
       "      <th></th>\n",
       "      <th>match_id</th>\n",
       "      <th>date</th>\n",
       "      <th>tournament</th>\n",
       "      <th>player1</th>\n",
       "      <th>player2</th>\n",
       "      <th>p1_odds</th>\n",
       "      <th>p2_odds</th>\n",
       "      <th>p1_sets_won</th>\n",
       "      <th>p2_sets_won</th>\n",
       "      <th>avg_odds</th>\n",
       "      <th>total_sets</th>\n",
       "      <th>straight_sets</th>\n",
       "      <th>month</th>\n",
       "      <th>year</th>\n",
       "    </tr>\n",
       "  </thead>\n",
       "  <tbody>\n",
       "    <tr>\n",
       "      <th>4</th>\n",
       "      <td>2024005</td>\n",
       "      <td>2024-03-18</td>\n",
       "      <td>Australian Open</td>\n",
       "      <td>Jannik Sinner</td>\n",
       "      <td>Alexander Zverev</td>\n",
       "      <td>1.78</td>\n",
       "      <td>2.82</td>\n",
       "      <td>1</td>\n",
       "      <td>0</td>\n",
       "      <td>2.30</td>\n",
       "      <td>1</td>\n",
       "      <td>True</td>\n",
       "      <td>2024-03</td>\n",
       "      <td>2024</td>\n",
       "    </tr>\n",
       "    <tr>\n",
       "      <th>5</th>\n",
       "      <td>2024006</td>\n",
       "      <td>2024-10-12</td>\n",
       "      <td>Wimbledon</td>\n",
       "      <td>Alexander Zverev</td>\n",
       "      <td>Holger Rune</td>\n",
       "      <td>1.51</td>\n",
       "      <td>2.59</td>\n",
       "      <td>1</td>\n",
       "      <td>1</td>\n",
       "      <td>2.05</td>\n",
       "      <td>2</td>\n",
       "      <td>True</td>\n",
       "      <td>2024-10</td>\n",
       "      <td>2024</td>\n",
       "    </tr>\n",
       "  </tbody>\n",
       "</table>\n",
       "</div>"
      ],
      "text/plain": [
       "   match_id       date       tournament           player1           player2  \\\n",
       "4   2024005 2024-03-18  Australian Open     Jannik Sinner  Alexander Zverev   \n",
       "5   2024006 2024-10-12        Wimbledon  Alexander Zverev       Holger Rune   \n",
       "\n",
       "   p1_odds  p2_odds  p1_sets_won  p2_sets_won  avg_odds  total_sets  \\\n",
       "4     1.78     2.82            1            0      2.30           1   \n",
       "5     1.51     2.59            1            1      2.05           2   \n",
       "\n",
       "   straight_sets    month  year  \n",
       "4           True  2024-03  2024  \n",
       "5           True  2024-10  2024  "
      ]
     },
     "execution_count": 73,
     "metadata": {},
     "output_type": "execute_result"
    }
   ],
   "source": [
    "\n",
    "# 🔑 Example: player1 odds < 1.8 AND straight‑set win\n",
    "fast_win = matches_2024[\n",
    "    (matches_2024['p1_odds'] < 1.8) &\n",
    "    (matches_2024['straight_sets'])\n",
    "]\n",
    "fast_win.head()"
   ]
  },
  {
   "cell_type": "code",
   "execution_count": null,
   "id": "05f8881d",
   "metadata": {},
   "outputs": [
    {
     "data": {
      "text/html": [
       "<div>\n",
       "<style scoped>\n",
       "    .dataframe tbody tr th:only-of-type {\n",
       "        vertical-align: middle;\n",
       "    }\n",
       "\n",
       "    .dataframe tbody tr th {\n",
       "        vertical-align: top;\n",
       "    }\n",
       "\n",
       "    .dataframe thead th {\n",
       "        text-align: right;\n",
       "    }\n",
       "</style>\n",
       "<table border=\"1\" class=\"dataframe\">\n",
       "  <thead>\n",
       "    <tr style=\"text-align: right;\">\n",
       "      <th></th>\n",
       "      <th>match_id</th>\n",
       "      <th>date</th>\n",
       "      <th>tournament</th>\n",
       "      <th>player1</th>\n",
       "      <th>player2</th>\n",
       "      <th>p1_odds</th>\n",
       "      <th>p2_odds</th>\n",
       "      <th>p1_sets_won</th>\n",
       "      <th>p2_sets_won</th>\n",
       "      <th>total_sets</th>\n",
       "      <th>straight_sets</th>\n",
       "      <th>month</th>\n",
       "    </tr>\n",
       "  </thead>\n",
       "  <tbody>\n",
       "    <tr>\n",
       "      <th>4</th>\n",
       "      <td>2024005</td>\n",
       "      <td>2024-03-18</td>\n",
       "      <td>Australian Open</td>\n",
       "      <td>Jannik Sinner</td>\n",
       "      <td>Alexander Zverev</td>\n",
       "      <td>1.78</td>\n",
       "      <td>2.82</td>\n",
       "      <td>1</td>\n",
       "      <td>0</td>\n",
       "      <td>1</td>\n",
       "      <td>True</td>\n",
       "      <td>2024-03</td>\n",
       "    </tr>\n",
       "    <tr>\n",
       "      <th>5</th>\n",
       "      <td>2024006</td>\n",
       "      <td>2024-10-12</td>\n",
       "      <td>Wimbledon</td>\n",
       "      <td>Alexander Zverev</td>\n",
       "      <td>Holger Rune</td>\n",
       "      <td>1.51</td>\n",
       "      <td>2.59</td>\n",
       "      <td>1</td>\n",
       "      <td>1</td>\n",
       "      <td>2</td>\n",
       "      <td>True</td>\n",
       "      <td>2024-10</td>\n",
       "    </tr>\n",
       "  </tbody>\n",
       "</table>\n",
       "</div>"
      ],
      "text/plain": [
       "   match_id       date       tournament           player1           player2  \\\n",
       "4   2024005 2024-03-18  Australian Open     Jannik Sinner  Alexander Zverev   \n",
       "5   2024006 2024-10-12        Wimbledon  Alexander Zverev       Holger Rune   \n",
       "\n",
       "   p1_odds  p2_odds  p1_sets_won  p2_sets_won  total_sets  straight_sets  \\\n",
       "4     1.78     2.82            1            0           1           True   \n",
       "5     1.51     2.59            1            1           2           True   \n",
       "\n",
       "     month  \n",
       "4  2024-03  \n",
       "5  2024-10  "
      ]
     },
     "execution_count": 61,
     "metadata": {},
     "output_type": "execute_result"
    }
   ],
   "source": [
    "\n",
    "# 🔑 Example: using query to filter\n",
    "\n",
    "fast_win_query = matches_2024.query('p1_odds < 1.8  &  straight_sets == True')\n",
    "\n",
    "fast_win_query.head()"
   ]
  },
  {
   "cell_type": "markdown",
   "id": "7e053675",
   "metadata": {},
   "source": [
    "> **Practice 4.1:** Filter `matches_2024` for matches where the **underdog** (higher odds) **won**. (Hint: compare odds vs. sets won)"
   ]
  },
  {
   "cell_type": "code",
   "execution_count": null,
   "id": "5774253d",
   "metadata": {},
   "outputs": [
    {
     "data": {
      "text/html": [
       "<div>\n",
       "<style scoped>\n",
       "    .dataframe tbody tr th:only-of-type {\n",
       "        vertical-align: middle;\n",
       "    }\n",
       "\n",
       "    .dataframe tbody tr th {\n",
       "        vertical-align: top;\n",
       "    }\n",
       "\n",
       "    .dataframe thead th {\n",
       "        text-align: right;\n",
       "    }\n",
       "</style>\n",
       "<table border=\"1\" class=\"dataframe\">\n",
       "  <thead>\n",
       "    <tr style=\"text-align: right;\">\n",
       "      <th></th>\n",
       "      <th>match_id</th>\n",
       "      <th>underdog_won</th>\n",
       "    </tr>\n",
       "  </thead>\n",
       "  <tbody>\n",
       "    <tr>\n",
       "      <th>0</th>\n",
       "      <td>2024001</td>\n",
       "      <td>True</td>\n",
       "    </tr>\n",
       "    <tr>\n",
       "      <th>1</th>\n",
       "      <td>2024002</td>\n",
       "      <td>False</td>\n",
       "    </tr>\n",
       "    <tr>\n",
       "      <th>2</th>\n",
       "      <td>2024003</td>\n",
       "      <td>False</td>\n",
       "    </tr>\n",
       "    <tr>\n",
       "      <th>3</th>\n",
       "      <td>2024004</td>\n",
       "      <td>False</td>\n",
       "    </tr>\n",
       "    <tr>\n",
       "      <th>4</th>\n",
       "      <td>2024005</td>\n",
       "      <td>False</td>\n",
       "    </tr>\n",
       "  </tbody>\n",
       "</table>\n",
       "</div>"
      ],
      "text/plain": [
       "   match_id  underdog_won\n",
       "0   2024001          True\n",
       "1   2024002         False\n",
       "2   2024003         False\n",
       "3   2024004         False\n",
       "4   2024005         False"
      ]
     },
     "execution_count": 62,
     "metadata": {},
     "output_type": "execute_result"
    }
   ],
   "source": [
    "\n",
    "# Example helper flag: did underdog win?\n",
    "\n",
    "matches_2024['underdog_won'] = np.where(\n",
    "    ((matches_2024['p1_odds'] > matches_2024['p2_odds']) & (matches_2024['p1_sets_won'] > matches_2024['p2_sets_won'])) |\n",
    "    ((matches_2024['p2_odds'] > matches_2024['p1_odds']) & (matches_2024['p2_sets_won'] > matches_2024['p1_sets_won'])),\n",
    "    True, False\n",
    ")\n",
    "\n",
    "matches_2024[['match_id','underdog_won']].head()\n"
   ]
  },
  {
   "cell_type": "markdown",
   "id": "7151faf6",
   "metadata": {},
   "source": [
    "## 5. Joining trades to matches (think SQL JOIN)"
   ]
  },
  {
   "cell_type": "code",
   "execution_count": 90,
   "id": "c6162bbe",
   "metadata": {},
   "outputs": [
    {
     "data": {
      "text/html": [
       "<div>\n",
       "<style scoped>\n",
       "    .dataframe tbody tr th:only-of-type {\n",
       "        vertical-align: middle;\n",
       "    }\n",
       "\n",
       "    .dataframe tbody tr th {\n",
       "        vertical-align: top;\n",
       "    }\n",
       "\n",
       "    .dataframe thead th {\n",
       "        text-align: right;\n",
       "    }\n",
       "</style>\n",
       "<table border=\"1\" class=\"dataframe\">\n",
       "  <thead>\n",
       "    <tr style=\"text-align: right;\">\n",
       "      <th></th>\n",
       "      <th>match_id</th>\n",
       "      <th>stake</th>\n",
       "      <th>profit</th>\n",
       "      <th>date</th>\n",
       "      <th>tournament</th>\n",
       "      <th>player1</th>\n",
       "      <th>player2</th>\n",
       "      <th>p1_odds</th>\n",
       "      <th>p2_odds</th>\n",
       "      <th>p1_sets_won</th>\n",
       "      <th>p2_sets_won</th>\n",
       "      <th>avg_odds</th>\n",
       "      <th>total_sets</th>\n",
       "      <th>straight_sets</th>\n",
       "      <th>month</th>\n",
       "      <th>year</th>\n",
       "    </tr>\n",
       "  </thead>\n",
       "  <tbody>\n",
       "    <tr>\n",
       "      <th>0</th>\n",
       "      <td>2024005</td>\n",
       "      <td>81.53</td>\n",
       "      <td>-15.62</td>\n",
       "      <td>2024-03-18 00:00:00</td>\n",
       "      <td>Australian Open</td>\n",
       "      <td>Jannik Sinner</td>\n",
       "      <td>Alexander Zverev</td>\n",
       "      <td>1.78</td>\n",
       "      <td>2.82</td>\n",
       "      <td>1</td>\n",
       "      <td>0</td>\n",
       "      <td>2.300</td>\n",
       "      <td>1.0</td>\n",
       "      <td>True</td>\n",
       "      <td>2024-03</td>\n",
       "      <td>2024</td>\n",
       "    </tr>\n",
       "    <tr>\n",
       "      <th>1</th>\n",
       "      <td>2024009</td>\n",
       "      <td>105.26</td>\n",
       "      <td>-0.03</td>\n",
       "      <td>2024-06-11 00:00:00</td>\n",
       "      <td>Wimbledon</td>\n",
       "      <td>Carlos Alcaraz</td>\n",
       "      <td>Alexander Zverev</td>\n",
       "      <td>3.59</td>\n",
       "      <td>2.24</td>\n",
       "      <td>4</td>\n",
       "      <td>2</td>\n",
       "      <td>2.915</td>\n",
       "      <td>6.0</td>\n",
       "      <td>False</td>\n",
       "      <td>2024-06</td>\n",
       "      <td>2024</td>\n",
       "    </tr>\n",
       "    <tr>\n",
       "      <th>2</th>\n",
       "      <td>2024004</td>\n",
       "      <td>74.70</td>\n",
       "      <td>-53.87</td>\n",
       "      <td>2024-01-08 00:00:00</td>\n",
       "      <td>US Open</td>\n",
       "      <td>Carlos Alcaraz</td>\n",
       "      <td>Jannik Sinner</td>\n",
       "      <td>NaN</td>\n",
       "      <td>1.38</td>\n",
       "      <td>4</td>\n",
       "      <td>2</td>\n",
       "      <td>1.885</td>\n",
       "      <td>6.0</td>\n",
       "      <td>False</td>\n",
       "      <td>2024-01</td>\n",
       "      <td>2024</td>\n",
       "    </tr>\n",
       "    <tr>\n",
       "      <th>3</th>\n",
       "      <td>2024001</td>\n",
       "      <td>73.98</td>\n",
       "      <td>-0.17</td>\n",
       "      <td>2024-10-21 00:00:00</td>\n",
       "      <td>Wimbledon</td>\n",
       "      <td>Daniil Medvedev</td>\n",
       "      <td>Holger Rune</td>\n",
       "      <td>3.52</td>\n",
       "      <td>3.54</td>\n",
       "      <td>1</td>\n",
       "      <td>3</td>\n",
       "      <td>3.530</td>\n",
       "      <td>4.0</td>\n",
       "      <td>False</td>\n",
       "      <td>2024-10</td>\n",
       "      <td>2024</td>\n",
       "    </tr>\n",
       "    <tr>\n",
       "      <th>4</th>\n",
       "      <td>2024007</td>\n",
       "      <td>130.90</td>\n",
       "      <td>35.82</td>\n",
       "      <td>2024-02-25 00:00:00</td>\n",
       "      <td>US Open</td>\n",
       "      <td>Carlos Alcaraz</td>\n",
       "      <td>Daniil Medvedev</td>\n",
       "      <td>3.79</td>\n",
       "      <td>3.33</td>\n",
       "      <td>4</td>\n",
       "      <td>4</td>\n",
       "      <td>3.560</td>\n",
       "      <td>8.0</td>\n",
       "      <td>False</td>\n",
       "      <td>2024-02</td>\n",
       "      <td>2024</td>\n",
       "    </tr>\n",
       "  </tbody>\n",
       "</table>\n",
       "</div>"
      ],
      "text/plain": [
       "   match_id   stake  profit                 date       tournament  \\\n",
       "0   2024005   81.53  -15.62  2024-03-18 00:00:00  Australian Open   \n",
       "1   2024009  105.26   -0.03  2024-06-11 00:00:00        Wimbledon   \n",
       "2   2024004   74.70  -53.87  2024-01-08 00:00:00          US Open   \n",
       "3   2024001   73.98   -0.17  2024-10-21 00:00:00        Wimbledon   \n",
       "4   2024007  130.90   35.82  2024-02-25 00:00:00          US Open   \n",
       "\n",
       "           player1           player2  p1_odds  p2_odds  p1_sets_won  \\\n",
       "0    Jannik Sinner  Alexander Zverev     1.78     2.82            1   \n",
       "1   Carlos Alcaraz  Alexander Zverev     3.59     2.24            4   \n",
       "2   Carlos Alcaraz     Jannik Sinner      NaN     1.38            4   \n",
       "3  Daniil Medvedev       Holger Rune     3.52     3.54            1   \n",
       "4   Carlos Alcaraz   Daniil Medvedev     3.79     3.33            4   \n",
       "\n",
       "   p2_sets_won  avg_odds  total_sets straight_sets    month  year  \n",
       "0            0     2.300         1.0          True  2024-03  2024  \n",
       "1            2     2.915         6.0         False  2024-06  2024  \n",
       "2            2     1.885         6.0         False  2024-01  2024  \n",
       "3            3     3.530         4.0         False  2024-10  2024  \n",
       "4            4     3.560         8.0         False  2024-02  2024  "
      ]
     },
     "execution_count": 90,
     "metadata": {},
     "output_type": "execute_result"
    }
   ],
   "source": [
    "\n",
    "bets = pd.read_csv('trades.csv')\n",
    "joined = bets.merge(matches_all, on='match_id', how='left')\n",
    "joined.head()\n"
   ]
  },
  {
   "cell_type": "markdown",
   "id": "88d613fa",
   "metadata": {},
   "source": [
    "> **Practice 5.1:** How many bets in `joined` **did not** find a matching match row? (Hint: column `tournament` .isNa())"
   ]
  },
  {
   "cell_type": "markdown",
   "id": "95ba0300",
   "metadata": {},
   "source": [
    "## 6. Grouping & aggregation"
   ]
  },
  {
   "cell_type": "code",
   "execution_count": 101,
   "id": "65057f9e",
   "metadata": {},
   "outputs": [
    {
     "data": {
      "text/html": [
       "<div>\n",
       "<style scoped>\n",
       "    .dataframe tbody tr th:only-of-type {\n",
       "        vertical-align: middle;\n",
       "    }\n",
       "\n",
       "    .dataframe tbody tr th {\n",
       "        vertical-align: top;\n",
       "    }\n",
       "\n",
       "    .dataframe thead th {\n",
       "        text-align: right;\n",
       "    }\n",
       "</style>\n",
       "<table border=\"1\" class=\"dataframe\">\n",
       "  <thead>\n",
       "    <tr style=\"text-align: right;\">\n",
       "      <th></th>\n",
       "      <th>tournament</th>\n",
       "      <th>matches</th>\n",
       "      <th>total_staked</th>\n",
       "      <th>total_profit</th>\n",
       "    </tr>\n",
       "  </thead>\n",
       "  <tbody>\n",
       "    <tr>\n",
       "      <th>0</th>\n",
       "      <td>Australian Open</td>\n",
       "      <td>2</td>\n",
       "      <td>187.71</td>\n",
       "      <td>-57.94</td>\n",
       "    </tr>\n",
       "    <tr>\n",
       "      <th>1</th>\n",
       "      <td>Roland Garros</td>\n",
       "      <td>1</td>\n",
       "      <td>130.71</td>\n",
       "      <td>-86.96</td>\n",
       "    </tr>\n",
       "    <tr>\n",
       "      <th>2</th>\n",
       "      <td>US Open</td>\n",
       "      <td>3</td>\n",
       "      <td>256.50</td>\n",
       "      <td>-0.58</td>\n",
       "    </tr>\n",
       "    <tr>\n",
       "      <th>3</th>\n",
       "      <td>Wimbledon</td>\n",
       "      <td>4</td>\n",
       "      <td>375.80</td>\n",
       "      <td>-4.91</td>\n",
       "    </tr>\n",
       "  </tbody>\n",
       "</table>\n",
       "</div>"
      ],
      "text/plain": [
       "        tournament  matches  total_staked  total_profit\n",
       "0  Australian Open        2        187.71        -57.94\n",
       "1    Roland Garros        1        130.71        -86.96\n",
       "2          US Open        3        256.50         -0.58\n",
       "3        Wimbledon        4        375.80         -4.91"
      ]
     },
     "execution_count": 101,
     "metadata": {},
     "output_type": "execute_result"
    }
   ],
   "source": [
    "\n",
    "# 🔑 Example: aggregate P&L by tournament\n",
    "summary = (\n",
    "    joined.groupby('tournament')\n",
    "          .agg(matches=('match_id','nunique'),\n",
    "               total_staked=('stake','sum'),\n",
    "               total_profit=('profit','sum'))\n",
    "          .reset_index()\n",
    ")\n",
    "summary\n"
   ]
  },
  {
   "cell_type": "markdown",
   "id": "d97e1a08-dca0-4b16-bd4f-38aeb2a889c5",
   "metadata": {},
   "source": [
    "> **Practice 6.1:** Group `matches_all` by `year` (use the column you created) and count matches per year."
   ]
  },
  {
   "cell_type": "markdown",
   "id": "56f1bfd0",
   "metadata": {},
   "source": [
    "> **Practice 6.2:** Which tournament has the **highest average stake per match**? (Hint: add a column)"
   ]
  },
  {
   "cell_type": "markdown",
   "id": "617b16b3",
   "metadata": {},
   "source": [
    "## 7. Pivot tables – quick multidimensional summaries"
   ]
  },
  {
   "cell_type": "code",
   "execution_count": 27,
   "id": "41bca39c",
   "metadata": {},
   "outputs": [
    {
     "data": {
      "text/html": [
       "<div>\n",
       "<style scoped>\n",
       "    .dataframe tbody tr th:only-of-type {\n",
       "        vertical-align: middle;\n",
       "    }\n",
       "\n",
       "    .dataframe tbody tr th {\n",
       "        vertical-align: top;\n",
       "    }\n",
       "\n",
       "    .dataframe thead th {\n",
       "        text-align: right;\n",
       "    }\n",
       "</style>\n",
       "<table border=\"1\" class=\"dataframe\">\n",
       "  <thead>\n",
       "    <tr style=\"text-align: right;\">\n",
       "      <th>player1</th>\n",
       "      <th>Carlos Alcaraz</th>\n",
       "      <th>Daniil Medvedev</th>\n",
       "      <th>Jannik Sinner</th>\n",
       "      <th>Novak Djokovic</th>\n",
       "      <th>Stefanos Tsitsipas</th>\n",
       "    </tr>\n",
       "    <tr>\n",
       "      <th>tournament</th>\n",
       "      <th></th>\n",
       "      <th></th>\n",
       "      <th></th>\n",
       "      <th></th>\n",
       "      <th></th>\n",
       "    </tr>\n",
       "  </thead>\n",
       "  <tbody>\n",
       "    <tr>\n",
       "      <th>Australian Open</th>\n",
       "      <td>0.00</td>\n",
       "      <td>0.00</td>\n",
       "      <td>-15.62</td>\n",
       "      <td>0.00</td>\n",
       "      <td>-42.32</td>\n",
       "    </tr>\n",
       "    <tr>\n",
       "      <th>Roland Garros</th>\n",
       "      <td>0.00</td>\n",
       "      <td>0.00</td>\n",
       "      <td>0.00</td>\n",
       "      <td>-86.96</td>\n",
       "      <td>0.00</td>\n",
       "    </tr>\n",
       "    <tr>\n",
       "      <th>US Open</th>\n",
       "      <td>-18.05</td>\n",
       "      <td>17.47</td>\n",
       "      <td>0.00</td>\n",
       "      <td>0.00</td>\n",
       "      <td>0.00</td>\n",
       "    </tr>\n",
       "    <tr>\n",
       "      <th>Wimbledon</th>\n",
       "      <td>-47.38</td>\n",
       "      <td>42.47</td>\n",
       "      <td>0.00</td>\n",
       "      <td>0.00</td>\n",
       "      <td>0.00</td>\n",
       "    </tr>\n",
       "  </tbody>\n",
       "</table>\n",
       "</div>"
      ],
      "text/plain": [
       "player1          Carlos Alcaraz  Daniil Medvedev  Jannik Sinner  \\\n",
       "tournament                                                        \n",
       "Australian Open            0.00             0.00         -15.62   \n",
       "Roland Garros              0.00             0.00           0.00   \n",
       "US Open                  -18.05            17.47           0.00   \n",
       "Wimbledon                -47.38            42.47           0.00   \n",
       "\n",
       "player1          Novak Djokovic  Stefanos Tsitsipas  \n",
       "tournament                                           \n",
       "Australian Open            0.00              -42.32  \n",
       "Roland Garros            -86.96                0.00  \n",
       "US Open                    0.00                0.00  \n",
       "Wimbledon                  0.00                0.00  "
      ]
     },
     "execution_count": 27,
     "metadata": {},
     "output_type": "execute_result"
    }
   ],
   "source": [
    "\n",
    "pivot = pd.pivot_table(\n",
    "    joined,\n",
    "    index='tournament',\n",
    "    columns='player1',\n",
    "    values='profit',\n",
    "    aggfunc='sum',\n",
    "    fill_value=0\n",
    ")\n",
    "pivot.head()\n"
   ]
  },
  {
   "cell_type": "markdown",
   "id": "c623650d",
   "metadata": {},
   "source": [
    "> **Practice 7.1:** Create a pivot of **average `p1_odds`** by `tournament` vs. **`year`** (use the year column)."
   ]
  },
  {
   "cell_type": "markdown",
   "id": "56d1f560",
   "metadata": {},
   "source": [
    "## 8. Exporting results"
   ]
  },
  {
   "cell_type": "code",
   "execution_count": 28,
   "id": "5ddd40e3",
   "metadata": {},
   "outputs": [
    {
     "name": "stdout",
     "output_type": "stream",
     "text": [
      "Files written ✓\n"
     ]
    }
   ],
   "source": [
    "\n",
    "summary.to_csv('tournament_profit_summary.csv', index=False)\n",
    "\n",
    "with pd.ExcelWriter('tournament_profit_summary.xlsx') as writer:\n",
    "    summary.to_excel(writer, sheet_name='Summary', index=False)\n",
    "    pivot.to_excel(writer, sheet_name='Pivot')\n",
    "print('Files written ✓')\n"
   ]
  },
  {
   "cell_type": "markdown",
   "id": "c0df4182",
   "metadata": {},
   "source": [
    "> **Practice 8.1:** Save the `fast_win` DataFrame (from Section 4) to **CSV** named `fast_win.csv`."
   ]
  },
  {
   "cell_type": "markdown",
   "id": "fc1a4203",
   "metadata": {},
   "source": [
    "## 9. Batch processing many files"
   ]
  },
  {
   "cell_type": "code",
   "execution_count": 87,
   "id": "a744c59d",
   "metadata": {},
   "outputs": [
    {
     "data": {
      "text/plain": [
       "(20, 9)"
      ]
     },
     "execution_count": 87,
     "metadata": {},
     "output_type": "execute_result"
    }
   ],
   "source": [
    "\n",
    "from pathlib import Path\n",
    "\n",
    "# 🔑 Example: read every matches_*.csv file\n",
    "files = pd.concat(\n",
    "    [pd.read_csv(fp) for fp in Path('.').glob('matches_*.csv')],\n",
    "    ignore_index=True\n",
    ")\n",
    "\n",
    "files.shape"
   ]
  },
  {
   "cell_type": "markdown",
   "id": "782831a8",
   "metadata": {},
   "source": [
    "> **Practice 9.1:** How many **distinct players** appear across **all** match files?"
   ]
  },
  {
   "cell_type": "markdown",
   "id": "e7b8e57a",
   "metadata": {},
   "source": [
    "## 10. Mini‑project – Monthly Tournament P&L dashboard"
   ]
  },
  {
   "cell_type": "markdown",
   "id": "d5ea7708",
   "metadata": {},
   "source": [
    "\n",
    "**Challenge steps**  \n",
    "1. Join every `matches_*.csv` with `trades.csv`.  \n",
    "2. Subtract 5 % commission to create `net_profit`.  \n",
    "3. Use `pd.pivot_table` to show **monthly** `net_profit` per **tournament**.  \n",
    "4. Export the pivot to Excel and CSV.  "
   ]
  }
 ],
 "metadata": {
  "kernelspec": {
   "display_name": "Python 3 (ipykernel)",
   "language": "python",
   "name": "python3"
  },
  "language_info": {
   "codemirror_mode": {
    "name": "ipython",
    "version": 3
   },
   "file_extension": ".py",
   "mimetype": "text/x-python",
   "name": "python",
   "nbconvert_exporter": "python",
   "pygments_lexer": "ipython3",
   "version": "3.13.1"
  }
 },
 "nbformat": 4,
 "nbformat_minor": 5
}
